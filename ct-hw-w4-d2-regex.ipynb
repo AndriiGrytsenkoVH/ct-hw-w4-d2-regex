{
 "cells": [
  {
   "attachments": {},
   "cell_type": "markdown",
   "metadata": {},
   "source": [
    "### Regex project\n",
    "\n",
    "Use python to read the file regex_test.txt and print the last name on each line using regular expressions and groups (return None for names with no first and last name, or names that aren't properly capitalized)\n",
    "##### Hint: use with open() and readlines()"
   ]
  },
  {
   "cell_type": "code",
   "execution_count": 4,
   "metadata": {},
   "outputs": [
    {
     "name": "stdout",
     "output_type": "stream",
     "text": [
      "Lincoln\n",
      "Garfield\n",
      "Milliken\n",
      "Williams\n",
      "None\n",
      "None\n"
     ]
    }
   ],
   "source": [
    "\"\"\"\n",
    "Expected Output\n",
    "Abraham Lincoln\n",
    "Andrew P Garfield\n",
    "Connor Milliken\n",
    "Jordan Alexander Williams\n",
    "None\n",
    "None\n",
    "\"\"\"\n",
    "\n",
    "import re\n",
    "\n",
    "with open(\"regex_test.txt\") as file:\n",
    "    data = file.readlines()\n",
    "\n",
    "    proper_name_pattern = re.compile(r\"\"\"\n",
    "        ([A-Z][a-z]*[ ]?)+          #properly capitalized first name, initials and titles\n",
    "        (?P<last_name>[A-Z][a-z]*)  #Last name, also checked for proper capitalization\n",
    "        \"\"\"\n",
    "        , re.X)\n",
    "\n",
    "    # Main loop\n",
    "    for line in data:\n",
    "        # match object\n",
    "        name_match = proper_name_pattern.match(line)\n",
    "        # check if the match is not empty\n",
    "        if name_match:\n",
    "            # print only last name group\n",
    "            print(name_match.group(\"last_name\"))\n",
    "        else:\n",
    "            print(None)\n",
    "\n"
   ]
  }
 ],
 "metadata": {
  "kernelspec": {
   "display_name": "Python 3",
   "language": "python",
   "name": "python3"
  },
  "language_info": {
   "codemirror_mode": {
    "name": "ipython",
    "version": 3
   },
   "file_extension": ".py",
   "mimetype": "text/x-python",
   "name": "python",
   "nbconvert_exporter": "python",
   "pygments_lexer": "ipython3",
   "version": "3.10.8 (tags/v3.10.8:aaaf517, Oct 11 2022, 16:50:30) [MSC v.1933 64 bit (AMD64)]"
  },
  "orig_nbformat": 4,
  "vscode": {
   "interpreter": {
    "hash": "26de051ba29f2982a8de78e945f0abaf191376122a1563185a90213a26c5da77"
   }
  }
 },
 "nbformat": 4,
 "nbformat_minor": 2
}
